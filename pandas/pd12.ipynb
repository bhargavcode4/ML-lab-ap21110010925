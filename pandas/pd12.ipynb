{
 "cells": [
  {
   "cell_type": "code",
   "execution_count": 3,
   "metadata": {},
   "outputs": [],
   "source": [
    "import pandas as pd\n",
    "import numpy as np"
   ]
  },
  {
   "cell_type": "code",
   "execution_count": 4,
   "metadata": {},
   "outputs": [
    {
     "name": "stdout",
     "output_type": "stream",
     "text": [
      "DataFrame after removing infinite values:\n",
      "    C1   C2  C3\n",
      "1  2.0  2.0   2\n",
      "2  3.0  3.0   3\n",
      "4  5.0  5.0   5\n"
     ]
    }
   ],
   "source": [
    "data = {'C1': [1, 2, 3, np.inf, 5],\n",
    "        'C2': [np.inf, 2, 3, 4, 5],\n",
    "        'C3': [1, 2, 3, 4, 5]}\n",
    "dffff = pd.DataFrame(data)\n",
    "dffff.replace([np.inf, -np.inf], np.nan, inplace=True)\n",
    "dffff.dropna(inplace=True)\n",
    "print(\"DataFrame after removing infinite values:\")\n",
    "print(dffff)"
   ]
  },
  {
   "cell_type": "markdown",
   "metadata": {},
   "source": []
  }
 ],
 "metadata": {
  "kernelspec": {
   "display_name": "Python 3",
   "language": "python",
   "name": "python3"
  },
  "language_info": {
   "codemirror_mode": {
    "name": "ipython",
    "version": 3
   },
   "file_extension": ".py",
   "mimetype": "text/x-python",
   "name": "python",
   "nbconvert_exporter": "python",
   "pygments_lexer": "ipython3",
   "version": "3.11.4"
  }
 },
 "nbformat": 4,
 "nbformat_minor": 2
}
