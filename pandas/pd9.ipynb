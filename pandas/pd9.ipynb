{
 "cells": [
  {
   "cell_type": "code",
   "execution_count": 3,
   "metadata": {},
   "outputs": [
    {
     "data": {
      "text/html": [
       "<div>\n",
       "<style scoped>\n",
       "    .dataframe tbody tr th:only-of-type {\n",
       "        vertical-align: middle;\n",
       "    }\n",
       "\n",
       "    .dataframe tbody tr th {\n",
       "        vertical-align: top;\n",
       "    }\n",
       "\n",
       "    .dataframe thead th {\n",
       "        text-align: right;\n",
       "    }\n",
       "</style>\n",
       "<table border=\"1\" class=\"dataframe\">\n",
       "  <thead>\n",
       "    <tr style=\"text-align: right;\">\n",
       "      <th></th>\n",
       "      <th>Name</th>\n",
       "      <th>section</th>\n",
       "    </tr>\n",
       "  </thead>\n",
       "  <tbody>\n",
       "    <tr>\n",
       "      <th>Student1</th>\n",
       "      <td>bhargav</td>\n",
       "      <td>o</td>\n",
       "    </tr>\n",
       "    <tr>\n",
       "      <th>Student2</th>\n",
       "      <td>kushal</td>\n",
       "      <td>v</td>\n",
       "    </tr>\n",
       "    <tr>\n",
       "      <th>Student3</th>\n",
       "      <td>sunil</td>\n",
       "      <td>a</td>\n",
       "    </tr>\n",
       "  </tbody>\n",
       "</table>\n",
       "</div>"
      ],
      "text/plain": [
       "             Name section\n",
       "Student1  bhargav       o\n",
       "Student2   kushal       v\n",
       "Student3    sunil       a"
      ]
     },
     "execution_count": 3,
     "metadata": {},
     "output_type": "execute_result"
    }
   ],
   "source": [
    "import pandas as pd\n",
    "import numpy as np\n",
    "dff={\n",
    "    'Name':['bhargav','kushal','sunil'],\n",
    "    'section':['o','v','a']\n",
    "}\n",
    "index_labels = ['Student1', 'Student2','Student3']\n",
    "dff=pd.DataFrame(dff,index=index_labels)\n",
    "dff"
   ]
  },
  {
   "cell_type": "code",
   "execution_count": 5,
   "metadata": {},
   "outputs": [
    {
     "name": "stdout",
     "output_type": "stream",
     "text": [
      "             Name section\n",
      "Student1  bhargav       o\n",
      "Student2   kushal       v\n",
      "Student3    sunil       a\n",
      "Student4     anil       f\n",
      "Student5   sanjay       j\n"
     ]
    }
   ],
   "source": [
    "dff2 = {\n",
    "  \"Name\": ['anil','sanjay'],\n",
    "  \"section\": ['f', 'j']\n",
    "}\n",
    "dff3=pd.DataFrame(dff2,index=['Student4','Student5'])\n",
    "dff1=dff._append(dff3)\n",
    "print(dff1)"
   ]
  }
 ],
 "metadata": {
  "kernelspec": {
   "display_name": "Python 3",
   "language": "python",
   "name": "python3"
  },
  "language_info": {
   "codemirror_mode": {
    "name": "ipython",
    "version": 3
   },
   "file_extension": ".py",
   "mimetype": "text/x-python",
   "name": "python",
   "nbconvert_exporter": "python",
   "pygments_lexer": "ipython3",
   "version": "3.11.4"
  }
 },
 "nbformat": 4,
 "nbformat_minor": 2
}
