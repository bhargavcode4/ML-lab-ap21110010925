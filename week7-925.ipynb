{
 "cells": [
  {
   "cell_type": "code",
   "execution_count": 1,
   "id": "c10cde10",
   "metadata": {},
   "outputs": [],
   "source": [
    "import numpy as np\n",
    "import pandas as pd"
   ]
  },
  {
   "cell_type": "markdown",
   "id": "db1ebd03",
   "metadata": {},
   "source": [
    "Q1 Create a vector (array) of 1XN dimension representing N-\n",
    "dimensional feature vector of a sample. Write a program to\n",
    "compute the mean and variance of the elements present in the\n",
    "array."
   ]
  },
  {
   "cell_type": "code",
   "execution_count": 22,
   "id": "72dd06ce",
   "metadata": {},
   "outputs": [],
   "source": [
    "Y=[2.5*i for i in range(11)]"
   ]
  },
  {
   "cell_type": "markdown",
   "id": "f08bad03",
   "metadata": {},
   "source": [
    "BY using inbuilt method we are getting 12.5 as mean np.mean(Y)"
   ]
  },
  {
   "cell_type": "code",
   "execution_count": 41,
   "id": "e90ec272",
   "metadata": {},
   "outputs": [],
   "source": [
    "def s_mean(l):\n",
    "    sum=0\n",
    "    for i in range(len(l)):\n",
    "        sum=sum+l[i]\n",
    "    return sum/len(l)   "
   ]
  },
  {
   "cell_type": "code",
   "execution_count": 42,
   "id": "3108a09f",
   "metadata": {},
   "outputs": [
    {
     "data": {
      "text/plain": [
       "12.5"
      ]
     },
     "execution_count": 42,
     "metadata": {},
     "output_type": "execute_result"
    }
   ],
   "source": [
    "m=s_mean(Y)\n",
    "m"
   ]
  },
  {
   "cell_type": "code",
   "execution_count": 47,
   "id": "8456bf09",
   "metadata": {},
   "outputs": [],
   "source": [
    " def sample_variance(l):\n",
    "        n = len(l)\n",
    "        m =s_mean(l) \n",
    "        deviations = [(x - m) ** 2 for x in l]\n",
    "        variance = sum(deviations) / n\n",
    "        return variance"
   ]
  },
  {
   "cell_type": "code",
   "execution_count": 48,
   "id": "0cdae423",
   "metadata": {},
   "outputs": [
    {
     "data": {
      "text/plain": [
       "62.5"
      ]
     },
     "execution_count": 48,
     "metadata": {},
     "output_type": "execute_result"
    }
   ],
   "source": [
    "sample_variance(Y)"
   ]
  },
  {
   "cell_type": "markdown",
   "id": "61d3c0be",
   "metadata": {},
   "source": [
    "2. Create two vectors each of dimension 1XM each representing N-dimensional feature vector of a sample. Write a program to compute the Covariance between them."
   ]
  },
  {
   "cell_type": "code",
   "execution_count": 49,
   "id": "5fd65e71",
   "metadata": {},
   "outputs": [],
   "source": [
    "X=[2.5*x for x in range(10)]\n",
    "Y=[1.5*y for y in range(10)]"
   ]
  },
  {
   "cell_type": "code",
   "execution_count": 74,
   "id": "28e3454f",
   "metadata": {},
   "outputs": [],
   "source": [
    "def cal_covariance(x,y):\n",
    "    m1=s_mean(x)\n",
    "    m2=s_mean(y)\n",
    "    for i in range(len(x)):\n",
    "        x[i]=x[i]-m1\n",
    "    for j in range(len(y)):\n",
    "        y[j]=y[j]-m2\n",
    "    dev=np.multiply(x,y) \n",
    "    deviations=sum(dev)\n",
    "    return deviations/len(x)-1 "
   ]
  },
  {
   "cell_type": "code",
   "execution_count": 73,
   "id": "5d6d282c",
   "metadata": {},
   "outputs": [
    {
     "data": {
      "text/plain": [
       "30.9375"
      ]
     },
     "execution_count": 73,
     "metadata": {},
     "output_type": "execute_result"
    }
   ],
   "source": [
    "cal_covariance(X,Y)"
   ]
  },
  {
   "cell_type": "markdown",
   "id": "ce96340e",
   "metadata": {},
   "source": [
    "3.Create two vectors each of dimension 1XN. Write a program to\n",
    "compute the Correlation between them."
   ]
  },
  {
   "cell_type": "code",
   "execution_count": 75,
   "id": "36eb37a8",
   "metadata": {},
   "outputs": [],
   "source": [
    "def cal_correlation(x,y):\n",
    "    num=cal_covariance(x,y)\n",
    "    den=(sample_variance(x)*sample_variance(y))**0.5\n",
    "    corr=num/den\n",
    "    return corr"
   ]
  },
  {
   "cell_type": "code",
   "execution_count": 76,
   "id": "a854c6f3",
   "metadata": {},
   "outputs": [
    {
     "data": {
      "text/plain": [
       "0.9676767676767677"
      ]
     },
     "execution_count": 76,
     "metadata": {},
     "output_type": "execute_result"
    }
   ],
   "source": [
    "cal_correlation(X,Y)"
   ]
  },
  {
   "cell_type": "markdown",
   "id": "3d2241cd",
   "metadata": {},
   "source": [
    "Q4 Create a Matrix of MXN dimension representing the M-dimensional feature vector for N number of samples i. e (i,j)th entry of the matrix represents the ith feature of jth sample. Write a program to compute the covariance matrix and correlation matrix. Comment ontakeaways from these matrixes."
   ]
  },
  {
   "cell_type": "code",
   "execution_count": 103,
   "id": "dad6e6b5",
   "metadata": {},
   "outputs": [],
   "source": [
    "vec=[[2,3,7],[3,4,1]]\n",
    "vec2=[[3,4,8],[4,5,5]]"
   ]
  },
  {
   "cell_type": "code",
   "execution_count": 104,
   "id": "e2bf69ab",
   "metadata": {},
   "outputs": [
    {
     "data": {
      "text/plain": [
       "(2, 3)"
      ]
     },
     "execution_count": 104,
     "metadata": {},
     "output_type": "execute_result"
    }
   ],
   "source": [
    "np.shape(vec) #M=3 N=2"
   ]
  },
  {
   "cell_type": "code",
   "execution_count": 105,
   "id": "4b6ffc29",
   "metadata": {},
   "outputs": [],
   "source": [
    "vector=pd.DataFrame(vec)\n",
    "vector\n",
    "vector2=pd.DataFrame(vec2)"
   ]
  },
  {
   "cell_type": "code",
   "execution_count": 106,
   "id": "0a01066b",
   "metadata": {},
   "outputs": [],
   "source": [
    "def covaraince_matrix(x,y):\n",
    "    cov=np.cov(x,y)\n",
    "    return cov"
   ]
  },
  {
   "cell_type": "code",
   "execution_count": 107,
   "id": "6e8fcf77",
   "metadata": {},
   "outputs": [
    {
     "data": {
      "text/plain": [
       "array([[ 7.        , -3.5       ,  7.        ,  1.        ],\n",
       "       [-3.5       ,  2.33333333, -3.5       , -0.16666667],\n",
       "       [ 7.        , -3.5       ,  7.        ,  1.        ],\n",
       "       [ 1.        , -0.16666667,  1.        ,  0.33333333]])"
      ]
     },
     "execution_count": 107,
     "metadata": {},
     "output_type": "execute_result"
    }
   ],
   "source": [
    "covaraince_matrix(vector,vector2)"
   ]
  },
  {
   "cell_type": "code",
   "execution_count": 108,
   "id": "110c65b4",
   "metadata": {},
   "outputs": [],
   "source": [
    "def correlation_matrix(x,y):\n",
    "    matrix = np.corrcoef(x, y)\n",
    "    return matrix"
   ]
  },
  {
   "cell_type": "code",
   "execution_count": 116,
   "id": "70a99523",
   "metadata": {},
   "outputs": [
    {
     "data": {
      "text/plain": [
       "array([[ 1.        , -0.8660254 ,  1.        ,  0.65465367],\n",
       "       [-0.8660254 ,  1.        , -0.8660254 , -0.18898224],\n",
       "       [ 1.        , -0.8660254 ,  1.        ,  0.65465367],\n",
       "       [ 0.65465367, -0.18898224,  0.65465367,  1.        ]])"
      ]
     },
     "execution_count": 116,
     "metadata": {},
     "output_type": "execute_result"
    }
   ],
   "source": [
    "co=correlation_matrix(vector,vector2)\n",
    "co"
   ]
  },
  {
   "cell_type": "code",
   "execution_count": 114,
   "id": "33858b4c",
   "metadata": {},
   "outputs": [
    {
     "data": {
      "image/png": "[encoded data removed]",
      "text/plain": [
       "<Figure size 640x480 with 2 Axes>"
      ]
     },
     "metadata": {},
     "output_type": "display_data"
    }
   ],
   "source": [
    "import seaborn as sns\n",
    "import matplotlib.pyplot as plt\n",
    "sns.heatmap(co, annot=True, fmt='g')\n",
    "plt.show()"
   ]
  },
  {
   "cell_type": "code",
   "execution_count": null,
   "id": "96e32ef7",
   "metadata": {},
   "outputs": [],
   "source": []
  }
 ],
 "metadata": {
  "kernelspec": {
   "display_name": "Python 3 (ipykernel)",
   "language": "python",
   "name": "python3"
  },
  "language_info": {
   "codemirror_mode": {
    "name": "ipython",
    "version": 3
   },
   "file_extension": ".py",
   "mimetype": "text/x-python",
   "name": "python",
   "nbconvert_exporter": "python",
   "pygments_lexer": "ipython3",
   "version": "3.10.9"
  }
 },
 "nbformat": 4,
 "nbformat_minor": 5
}
